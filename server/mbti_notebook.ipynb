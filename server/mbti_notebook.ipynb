{
 "cells": [
  {
   "cell_type": "code",
   "execution_count": 61,
   "metadata": {},
   "outputs": [],
   "source": [
    "# Import libraries\n",
    "\n",
    "# Data Processing\n",
    "import numpy as np\n",
    "import pandas as pd\n",
    "\n",
    "# Data Visuals\n",
    "import matplotlib.pyplot as plt\n",
    "import seaborn as sns\n",
    "\n",
    "# Preprocess\n",
    "import re\n",
    "import nltk\n",
    "from nltk.corpus import stopwords\n",
    "from nltk.stem import SnowballStemmer, WordNetLemmatizer\n",
    "from sklearn.preprocessing import LabelEncoder, OneHotEncoder\n",
    "\n",
    "# Machine Learning package\n",
    "from sklearn.feature_extraction.text import CountVectorizer\n",
    "from sklearn.feature_extraction.text import TfidfVectorizer\n",
    "from sklearn.feature_extraction.text import TfidfTransformer\n",
    "\n",
    "# Model Training and Evaluations\n",
    "from sklearn.model_selection import train_test_split\n",
    "\n",
    "from sklearn.linear_model import LogisticRegression\n",
    "from sklearn.svm import SVC\n",
    "from sklearn.tree import DecisionTreeClassifier\n",
    "from sklearn.ensemble import RandomForestClassifier, GradientBoostingClassifier\n",
    "#from xgboost import XGBClassifier\n",
    "\n",
    "# Metrics\n",
    "from sklearn.metrics import accuracy_score\n",
    "from sklearn.metrics import confusion_matrix\n",
    "\n",
    "# Joblib to Export ML Model\n",
    "import joblib"
   ]
  },
  {
   "attachments": {},
   "cell_type": "markdown",
   "metadata": {},
   "source": [
    "## Data and Visualization"
   ]
  },
  {
   "attachments": {},
   "cell_type": "markdown",
   "metadata": {},
   "source": [
    "The Data that we will be looking at is the (MBTI) Myer-Briggs Personality Type Dataset. It contains over 8600 rows of data, which the columns being the type of the user, and the second column being the last 50 things they have posted (with each post being separated by \"|||\"). "
   ]
  },
  {
   "cell_type": "code",
   "execution_count": 2,
   "metadata": {},
   "outputs": [
    {
     "data": {
      "text/html": [
       "<div>\n",
       "<style scoped>\n",
       "    .dataframe tbody tr th:only-of-type {\n",
       "        vertical-align: middle;\n",
       "    }\n",
       "\n",
       "    .dataframe tbody tr th {\n",
       "        vertical-align: top;\n",
       "    }\n",
       "\n",
       "    .dataframe thead th {\n",
       "        text-align: right;\n",
       "    }\n",
       "</style>\n",
       "<table border=\"1\" class=\"dataframe\">\n",
       "  <thead>\n",
       "    <tr style=\"text-align: right;\">\n",
       "      <th></th>\n",
       "      <th>type</th>\n",
       "      <th>posts</th>\n",
       "    </tr>\n",
       "  </thead>\n",
       "  <tbody>\n",
       "    <tr>\n",
       "      <th>0</th>\n",
       "      <td>INFJ</td>\n",
       "      <td>'http://www.youtube.com/watch?v=qsXHcwe3krw|||...</td>\n",
       "    </tr>\n",
       "    <tr>\n",
       "      <th>1</th>\n",
       "      <td>ENTP</td>\n",
       "      <td>'I'm finding the lack of me in these posts ver...</td>\n",
       "    </tr>\n",
       "    <tr>\n",
       "      <th>2</th>\n",
       "      <td>INTP</td>\n",
       "      <td>'Good one  _____   https://www.youtube.com/wat...</td>\n",
       "    </tr>\n",
       "    <tr>\n",
       "      <th>3</th>\n",
       "      <td>INTJ</td>\n",
       "      <td>'Dear INTP,   I enjoyed our conversation the o...</td>\n",
       "    </tr>\n",
       "    <tr>\n",
       "      <th>4</th>\n",
       "      <td>ENTJ</td>\n",
       "      <td>'You're fired.|||That's another silly misconce...</td>\n",
       "    </tr>\n",
       "  </tbody>\n",
       "</table>\n",
       "</div>"
      ],
      "text/plain": [
       "   type                                              posts\n",
       "0  INFJ  'http://www.youtube.com/watch?v=qsXHcwe3krw|||...\n",
       "1  ENTP  'I'm finding the lack of me in these posts ver...\n",
       "2  INTP  'Good one  _____   https://www.youtube.com/wat...\n",
       "3  INTJ  'Dear INTP,   I enjoyed our conversation the o...\n",
       "4  ENTJ  'You're fired.|||That's another silly misconce..."
      ]
     },
     "execution_count": 2,
     "metadata": {},
     "output_type": "execute_result"
    }
   ],
   "source": [
    "# Read Data\n",
    "data = pd.read_csv(\"mbti_1.csv\")\n",
    "data.head()"
   ]
  },
  {
   "cell_type": "code",
   "execution_count": 3,
   "metadata": {},
   "outputs": [
    {
     "name": "stdout",
     "output_type": "stream",
     "text": [
      "Check for Nulls:\n",
      "type     False\n",
      "posts    False\n",
      "dtype: bool\n",
      "\n",
      "Data Shape:\n",
      "(8675, 2)\n",
      "\n",
      "Data Info:\n",
      "<class 'pandas.core.frame.DataFrame'>\n",
      "RangeIndex: 8675 entries, 0 to 8674\n",
      "Data columns (total 2 columns):\n",
      " #   Column  Non-Null Count  Dtype \n",
      "---  ------  --------------  ----- \n",
      " 0   type    8675 non-null   object\n",
      " 1   posts   8675 non-null   object\n",
      "dtypes: object(2)\n",
      "memory usage: 135.7+ KB\n",
      "None\n"
     ]
    }
   ],
   "source": [
    "# Check if there are any nulls, check the shape\n",
    "print(\"Check for Nulls:\")\n",
    "print(data.isnull().any())\n",
    "print(\"\\nData Shape:\")\n",
    "print(data.shape)\n",
    "print(\"\\nData Info:\")\n",
    "print(data.info())"
   ]
  },
  {
   "cell_type": "code",
   "execution_count": 4,
   "metadata": {},
   "outputs": [
    {
     "data": {
      "text/plain": [
       "array(['ENFJ', 'ENFP', 'ENTJ', 'ENTP', 'ESFJ', 'ESFP', 'ESTJ', 'ESTP',\n",
       "       'INFJ', 'INFP', 'INTJ', 'INTP', 'ISFJ', 'ISFP', 'ISTJ', 'ISTP'],\n",
       "      dtype=object)"
      ]
     },
     "execution_count": 4,
     "metadata": {},
     "output_type": "execute_result"
    }
   ],
   "source": [
    "# Check the unique entires in column type\n",
    "types = np.unique(np.array(data['type']))\n",
    "types"
   ]
  },
  {
   "cell_type": "code",
   "execution_count": 5,
   "metadata": {},
   "outputs": [
    {
     "name": "stdout",
     "output_type": "stream",
     "text": [
      "      posts\n",
      "type       \n",
      "ENFJ   9500\n",
      "ENFP  33750\n",
      "ENTJ  11550\n",
      "ENTP  34250\n",
      "ESFJ   2100\n",
      "ESFP   2400\n",
      "ESTJ   1950\n",
      "ESTP   4450\n",
      "INFJ  73500\n",
      "INFP  91600\n",
      "INTJ  54550\n",
      "INTP  65200\n",
      "ISFJ   8300\n",
      "ISFP  13550\n",
      "ISTJ  10250\n",
      "ISTP  16850\n",
      "\n",
      "      posts\n",
      "type       \n",
      "INFP  91600\n",
      "INFJ  73500\n",
      "INTP  65200\n",
      "INTJ  54550\n",
      "ENTP  34250\n",
      "ENFP  33750\n",
      "ISTP  16850\n",
      "ISFP  13550\n",
      "ENTJ  11550\n",
      "ISTJ  10250\n",
      "ENFJ   9500\n",
      "ISFJ   8300\n",
      "ESTP   4450\n",
      "ESFP   2400\n",
      "ESFJ   2100\n",
      "ESTJ   1950\n"
     ]
    }
   ],
   "source": [
    "total = data.groupby(['type']).count()*50 # Multiply by 50 since there are 50 posts per entry\n",
    "total_sorted = data.groupby(['type']).count().sort_values(['posts'], ascending=False)*50\n",
    "print(total)\n",
    "print(\"\")\n",
    "print(total_sorted)"
   ]
  },
  {
   "cell_type": "code",
   "execution_count": 33,
   "metadata": {},
   "outputs": [
    {
     "data": {
      "text/plain": [
       "Text(0.5, 1.0, 'Total Posts for Each Personality Type')"
      ]
     },
     "execution_count": 33,
     "metadata": {},
     "output_type": "execute_result"
    },
    {
     "data": {
      "image/png": "[encoded data removed]",
      "text/plain": [
       "<Figure size 1200x400 with 1 Axes>"
      ]
     },
     "metadata": {},
     "output_type": "display_data"
    }
   ],
   "source": [
    "matplotlib_colors = ['#ffafbd', '#2193b0', '#cc2b5e', '#734b6d', '#eecda3', '#ffb88c', '#56ab2f', '#06beb6'] # Colors from: https://digitalsynopsis.com/design/beautiful-color-ui-gradients-backgrounds/\n",
    "\n",
    "# Visual barchart of total posts for each personality type, sorted by post count\n",
    "plt.figure(figsize = (12,4))\n",
    "plt.bar(np.array(total.index), height = total_sorted['posts'], color=matplotlib_colors)\n",
    "plt.xlabel('Personality Types', size = 15)\n",
    "plt.ylabel('Number of Posts', size = 15)\n",
    "plt.title('Total Posts for Each Personality Type')"
   ]
  },
  {
   "cell_type": "code",
   "execution_count": 54,
   "metadata": {},
   "outputs": [
    {
     "data": {
      "text/plain": [
       "<seaborn.axisgrid.FacetGrid at 0x1b4310a3ee0>"
      ]
     },
     "execution_count": 54,
     "metadata": {},
     "output_type": "execute_result"
    },
    {
     "data": {
      "image/png": "[encoded data removed]",
      "text/plain": [
       "<Figure size 586x500 with 1 Axes>"
      ]
     },
     "metadata": {},
     "output_type": "display_data"
    }
   ],
   "source": [
    "# Another visual representation, this time via Seaborn ScatterPlot, total posts for each personality type, sorted by post count\n",
    "sns.color_palette(\"hls\", 8)\n",
    "sns.relplot(\n",
    "    data=total_sorted,\n",
    "    x=\"posts\", y=\"type\", hue=\"type\"\n",
    ").set(title='Scatter Plot of Personality Type vs Posts Made')"
   ]
  },
  {
   "cell_type": "code",
   "execution_count": 40,
   "metadata": {},
   "outputs": [
    {
     "data": {
      "image/png": "[encoded data removed]",
      "text/plain": [
       "<Figure size 640x480 with 1 Axes>"
      ]
     },
     "metadata": {},
     "output_type": "display_data"
    }
   ],
   "source": [
    "# Visual Represntation of Count of Personality Types of who have certain number of posts\n",
    "typecount_histogram = sns.histplot(y=\"posts\", data=total).set(title='Count of Personality Types who have Y number of Posts')"
   ]
  },
  {
   "attachments": {},
   "cell_type": "markdown",
   "metadata": {},
   "source": [
    "## Initial Pre-processing"
   ]
  },
  {
   "attachments": {},
   "cell_type": "markdown",
   "metadata": {},
   "source": [
    "I will do pre-processing on the data in order to make it readable for the machine learning models. This involves removing links, punctuation, stopwords, converting to lowercase, and getting rid of the mbti personality tags within the data itself. I will also remove posts that have less than 20 words, because it is more difficult to determine personality from short posts."
   ]
  },
  {
   "attachments": {},
   "cell_type": "markdown",
   "metadata": {},
   "source": [
    "I will do pre-processing on the data in order to make it readable for the machine learning models. This involves removing links, punctuation, stopwords, "
   ]
  },
  {
   "cell_type": "code",
   "execution_count": 59,
   "metadata": {},
   "outputs": [],
   "source": [
    "# Preprocess \n",
    "\n",
    "# Code from: https://www.kaggle.com/code/rajshreev/mbti-personality-predictor-using-machine-learning\n",
    "\n",
    "def preprocess_text(df, remove_special=True):\n",
    "    texts = df['posts'].copy()\n",
    "    labels = df['type'].copy()\n",
    "\n",
    "    #Remove links \n",
    "    df[\"posts\"] = df[\"posts\"].apply(lambda x: re.sub(r'https?:\\/\\/.*?[\\s+]', '', x.replace(\"|\",\" \") + \" \"))\n",
    "    \n",
    "    #Keep the End Of Sentence characters\n",
    "    df[\"posts\"] = df[\"posts\"].apply(lambda x: re.sub(r'\\.', ' EOSTokenDot ', x + \" \"))\n",
    "    df[\"posts\"] = df[\"posts\"].apply(lambda x: re.sub(r'\\?', ' EOSTokenQuest ', x + \" \"))\n",
    "    df[\"posts\"] = df[\"posts\"].apply(lambda x: re.sub(r'!', ' EOSTokenExs ', x + \" \"))\n",
    "    \n",
    "    #Strip Punctation\n",
    "    df[\"posts\"] = df[\"posts\"].apply(lambda x: re.sub(r'[\\.+]', \".\",x))\n",
    "\n",
    "    #Remove multiple fullstops\n",
    "    df[\"posts\"] = df[\"posts\"].apply(lambda x: re.sub(r'[^\\w\\s]','',x))\n",
    "\n",
    "    #Remove Non-words\n",
    "    df[\"posts\"] = df[\"posts\"].apply(lambda x: re.sub(r'[^a-zA-Z\\s]','',x))\n",
    "\n",
    "    #Convert posts to lowercase\n",
    "    df[\"posts\"] = df[\"posts\"].apply(lambda x: x.lower())\n",
    "\n",
    "    #Remove multiple letter repeating words\n",
    "    df[\"posts\"] = df[\"posts\"].apply(lambda x: re.sub(r'([a-z])\\1{2,}[\\s|\\w]*','',x)) \n",
    "\n",
    "    #Remove very short or long words\n",
    "    df[\"posts\"] = df[\"posts\"].apply(lambda x: re.sub(r'(\\b\\w{0,3})?\\b','',x)) \n",
    "    df[\"posts\"] = df[\"posts\"].apply(lambda x: re.sub(r'(\\b\\w{30,1000})?\\b','',x))\n",
    "\n",
    "    #Remove MBTI Personality Words - crutial in order to get valid model accuracy estimation for unseen data. \n",
    "    if remove_special:\n",
    "        pers_types = ['INFP' ,'INFJ', 'INTP', 'INTJ', 'ENTP', 'ENFP', 'ISTP' ,'ISFP' ,'ENTJ', 'ISTJ','ENFJ', 'ISFJ' ,'ESTP', 'ESFP' ,'ESFJ' ,'ESTJ']\n",
    "        pers_types = [p.lower() for p in pers_types]\n",
    "        p = re.compile(\"(\" + \"|\".join(pers_types) + \")\")\n",
    "    \n",
    "    return df\n",
    "\n",
    "#Preprocessing of entered Text\n",
    "data_preprocessed = preprocess_text(data)"
   ]
  },
  {
   "cell_type": "code",
   "execution_count": 60,
   "metadata": {},
   "outputs": [
    {
     "name": "stdout",
     "output_type": "stream",
     "text": [
      "Before : Number of posts 8675\n",
      "After : Number of posts 8425\n"
     ]
    }
   ],
   "source": [
    "# Removing posts with less than 20 words\n",
    "min_words = 20\n",
    "print(\"Before : Number of posts\", len(data_preprocessed)) \n",
    "data_preprocessed[\"no. of. words\"] = data_preprocessed[\"posts\"].apply(lambda x: len(re.findall(r'\\w+', x)))\n",
    "data_preprocessed = data_preprocessed[data_preprocessed[\"no. of. words\"] >= min_words]\n",
    "\n",
    "print(\"After : Number of posts\", len(data_preprocessed))"
   ]
  },
  {
   "attachments": {},
   "cell_type": "markdown",
   "metadata": {},
   "source": [
    "### Encoding\n",
    "\n",
    "Encoding in this case refers to transforming the data from categorical text variables into a numerical format so that it is understood by the machines. In this case, we had the option of choosing OneHotEncoder and LabelEncoder. OneHotEncoder changes each of the types into a whole seperate feature column, so it would add 16 columns because there are 16 unique MBTI types. This would increase the dimensionality and increase the complexity, so I have chosen to go with LabelEncoder. LabelEncoder basically turns each type into a number. In the example below, you can see INFJ = 8, ENTP = 2, etc. So there will be 16 numbers, and each one represents an MBTI type. "
   ]
  },
  {
   "cell_type": "code",
   "execution_count": 80,
   "metadata": {},
   "outputs": [
    {
     "data": {
      "text/plain": [
       "<8425x16 sparse matrix of type '<class 'numpy.float64'>'\n",
       "\twith 8425 stored elements in Compressed Sparse Row format>"
      ]
     },
     "execution_count": 80,
     "metadata": {},
     "output_type": "execute_result"
    }
   ],
   "source": [
    "# OneHot Encoder was a potential option. However, LabelEncoder was chosen over it because of the simplicity, and the fact were 16 categories would make it slow to run\n",
    "onehot = OneHotEncoder()\n",
    "oh = onehot.fit_transform(data_preprocessed['type'].values.reshape(-1, 1))\n",
    "oh"
   ]
  },
  {
   "cell_type": "code",
   "execution_count": 82,
   "metadata": {},
   "outputs": [
    {
     "name": "stderr",
     "output_type": "stream",
     "text": [
      "C:\\Users\\Eternal\\AppData\\Local\\Temp\\ipykernel_14608\\103244890.py:2: SettingWithCopyWarning: \n",
      "A value is trying to be set on a copy of a slice from a DataFrame.\n",
      "Try using .loc[row_indexer,col_indexer] = value instead\n",
      "\n",
      "See the caveats in the documentation: https://pandas.pydata.org/pandas-docs/stable/user_guide/indexing.html#returning-a-view-versus-a-copy\n",
      "  data_preprocessed['type of encoding'] = enc.fit_transform(data_preprocessed['type'])\n"
     ]
    },
    {
     "data": {
      "text/html": [
       "<div>\n",
       "<style scoped>\n",
       "    .dataframe tbody tr th:only-of-type {\n",
       "        vertical-align: middle;\n",
       "    }\n",
       "\n",
       "    .dataframe tbody tr th {\n",
       "        vertical-align: top;\n",
       "    }\n",
       "\n",
       "    .dataframe thead th {\n",
       "        text-align: right;\n",
       "    }\n",
       "</style>\n",
       "<table border=\"1\" class=\"dataframe\">\n",
       "  <thead>\n",
       "    <tr style=\"text-align: right;\">\n",
       "      <th></th>\n",
       "      <th>type</th>\n",
       "      <th>posts</th>\n",
       "      <th>no. of. words</th>\n",
       "      <th>type of encoding</th>\n",
       "    </tr>\n",
       "  </thead>\n",
       "  <tbody>\n",
       "    <tr>\n",
       "      <th>0</th>\n",
       "      <td>INFJ</td>\n",
       "      <td>enfp  intj moments   sportscenter    plays...</td>\n",
       "      <td>430</td>\n",
       "      <td>8</td>\n",
       "    </tr>\n",
       "    <tr>\n",
       "      <th>1</th>\n",
       "      <td>ENTP</td>\n",
       "      <td>finding  lack    these posts very alarming eo...</td>\n",
       "      <td>803</td>\n",
       "      <td>3</td>\n",
       "    </tr>\n",
       "    <tr>\n",
       "      <th>2</th>\n",
       "      <td>INTP</td>\n",
       "      <td>good         course  which    know thats  bles...</td>\n",
       "      <td>253</td>\n",
       "      <td>11</td>\n",
       "    </tr>\n",
       "    <tr>\n",
       "      <th>3</th>\n",
       "      <td>INTJ</td>\n",
       "      <td>dear intp    enjoyed  conversation  other  eos...</td>\n",
       "      <td>777</td>\n",
       "      <td>10</td>\n",
       "    </tr>\n",
       "    <tr>\n",
       "      <th>4</th>\n",
       "      <td>ENTJ</td>\n",
       "      <td>youre fired eostokendot    thats another silly...</td>\n",
       "      <td>402</td>\n",
       "      <td>2</td>\n",
       "    </tr>\n",
       "  </tbody>\n",
       "</table>\n",
       "</div>"
      ],
      "text/plain": [
       "   type                                              posts  no. of. words  \\\n",
       "0  INFJ      enfp  intj moments   sportscenter    plays...            430   \n",
       "1  ENTP   finding  lack    these posts very alarming eo...            803   \n",
       "2  INTP  good         course  which    know thats  bles...            253   \n",
       "3  INTJ  dear intp    enjoyed  conversation  other  eos...            777   \n",
       "4  ENTJ  youre fired eostokendot    thats another silly...            402   \n",
       "\n",
       "   type of encoding  \n",
       "0                 8  \n",
       "1                 3  \n",
       "2                11  \n",
       "3                10  \n",
       "4                 2  "
      ]
     },
     "execution_count": 82,
     "metadata": {},
     "output_type": "execute_result"
    }
   ],
   "source": [
    "# Using Label Encoder\n",
    "enc = LabelEncoder()\n",
    "data_preprocessed['type of encoding'] = enc.fit_transform(data_preprocessed['type'])\n",
    "\n",
    "target = data_preprocessed['type of encoding'] \n",
    "\n",
    "data_preprocessed.head()"
   ]
  },
  {
   "attachments": {},
   "cell_type": "markdown",
   "metadata": {},
   "source": [
    "### CounterVectorizer and TF-IDF"
   ]
  },
  {
   "cell_type": "code",
   "execution_count": 83,
   "metadata": {},
   "outputs": [
    {
     "data": {
      "text/plain": [
       "(8425, 98546)"
      ]
     },
     "execution_count": 83,
     "metadata": {},
     "output_type": "execute_result"
    }
   ],
   "source": [
    "# Vectorizing the posts for the model and filtering Stop-words\n",
    "vect = CountVectorizer(stop_words='english') \n",
    "\n",
    "# Converting posts (or training or X feature) into numerical form by count vectorization\n",
    "train =  vect.fit_transform(data_preprocessed[\"posts\"])\n",
    "train.shape"
   ]
  },
  {
   "cell_type": "code",
   "execution_count": 84,
   "metadata": {},
   "outputs": [
    {
     "name": "stdout",
     "output_type": "stream",
     "text": [
      "(5897, 98546) (5897,) (2528, 98546) (2528,)\n"
     ]
    }
   ],
   "source": [
    "X_train, X_test, y_train, y_test = train_test_split(train, target, test_size=0.3, stratify=target, random_state=611)\n",
    "print ((X_train.shape),(y_train.shape),(X_test.shape),(y_test.shape))"
   ]
  },
  {
   "attachments": {},
   "cell_type": "markdown",
   "metadata": {},
   "source": [
    "### Testing out Pipeline with Standard Scaler and Logistic Regression"
   ]
  },
  {
   "attachments": {},
   "cell_type": "markdown",
   "metadata": {},
   "source": [
    "After pre-processing, I explored Logistic Regression as my first machine learning model. When I first tried it, I failed to converge because it said \"lbfgs failed to converse need higher max_iter or to use alternative solver options\". According to sources online, SAGA solver is said to be the best choice for LogReg models. There were still issues, and setting the max_iter to 5000 made the process take an enormous amount of time (I could not finish it). Sources also say that scaled data is recommended in LogReg. So I utilized a pipeline with the first step being StandardScaler. You can see below that this actually proved to lower the accuracy compared to the original Logistic Regression model. Despite having some warnings with the LogReg being unable to converge, the accuracy for the original LogReg still proved to be decent at 59%."
   ]
  },
  {
   "cell_type": "code",
   "execution_count": 85,
   "metadata": {},
   "outputs": [],
   "source": [
    "from sklearn.pipeline import Pipeline\n",
    "from sklearn.preprocessing import StandardScaler"
   ]
  },
  {
   "cell_type": "code",
   "execution_count": 86,
   "metadata": {},
   "outputs": [
    {
     "name": "stdout",
     "output_type": "stream",
     "text": [
      "Accuracy: 59.34%\n"
     ]
    },
    {
     "name": "stderr",
     "output_type": "stream",
     "text": [
      "c:\\Users\\Eternal\\Downloads\\ENSF Masters\\ENSF 611\\Project\\ml-mbti-fullstack\\server\\venv\\lib\\site-packages\\sklearn\\linear_model\\_sag.py:350: ConvergenceWarning: The max_iter was reached which means the coef_ did not converge\n",
      "  warnings.warn(\n"
     ]
    }
   ],
   "source": [
    "# lbfgs failed to converse, need higher max_iter or to use alternative solver options\n",
    "\n",
    "# According to StackOverflow, SAGA solver is often the best choice\n",
    "# https://stackoverflow.com/questions/38640109/logistic-regression-python-solvers-definitions#:~:text=The%20SAGA%20solver%20is%20a,theoretical%20convergence%20compared%20to%20SAG.\n",
    "\n",
    "# Setting max_iter to 5000 made the process take over 3 mins...\n",
    "\n",
    "# StackOverflow recommends the use of scaled data\n",
    "# https://stackoverflow.com/questions/57085897/python-logistic-regression-max-iter-parameter-is-reducing-the-accuracy\n",
    "\n",
    "accuracies = {}\n",
    "\n",
    "# Normal LogReg\n",
    "logreg = LogisticRegression(solver='saga', max_iter=700)\n",
    "logreg.fit(X_train, y_train)\n",
    "\n",
    "Y_pred = logreg.predict(X_test)\n",
    "predictions = [round(value) for value in Y_pred]\n",
    "\n",
    "# evaluate predictions\n",
    "accuracy = accuracy_score(y_test, predictions)\n",
    "accuracies['Logistic Regression'] = accuracy* 100.0\n",
    "print(\"Accuracy (LogReg): %.2f%%\" % (accuracy * 100.0))"
   ]
  },
  {
   "cell_type": "code",
   "execution_count": 93,
   "metadata": {},
   "outputs": [
    {
     "data": {
      "text/html": [
       "<style>#sk-container-id-2 {color: black;background-color: white;}#sk-container-id-2 pre{padding: 0;}#sk-container-id-2 div.sk-toggleable {background-color: white;}#sk-container-id-2 label.sk-toggleable__label {cursor: pointer;display: block;width: 100%;margin-bottom: 0;padding: 0.3em;box-sizing: border-box;text-align: center;}#sk-container-id-2 label.sk-toggleable__label-arrow:before {content: \"▸\";float: left;margin-right: 0.25em;color: #696969;}#sk-container-id-2 label.sk-toggleable__label-arrow:hover:before {color: black;}#sk-container-id-2 div.sk-estimator:hover label.sk-toggleable__label-arrow:before {color: black;}#sk-container-id-2 div.sk-toggleable__content {max-height: 0;max-width: 0;overflow: hidden;text-align: left;background-color: #f0f8ff;}#sk-container-id-2 div.sk-toggleable__content pre {margin: 0.2em;color: black;border-radius: 0.25em;background-color: #f0f8ff;}#sk-container-id-2 input.sk-toggleable__control:checked~div.sk-toggleable__content {max-height: 200px;max-width: 100%;overflow: auto;}#sk-container-id-2 input.sk-toggleable__control:checked~label.sk-toggleable__label-arrow:before {content: \"▾\";}#sk-container-id-2 div.sk-estimator input.sk-toggleable__control:checked~label.sk-toggleable__label {background-color: #d4ebff;}#sk-container-id-2 div.sk-label input.sk-toggleable__control:checked~label.sk-toggleable__label {background-color: #d4ebff;}#sk-container-id-2 input.sk-hidden--visually {border: 0;clip: rect(1px 1px 1px 1px);clip: rect(1px, 1px, 1px, 1px);height: 1px;margin: -1px;overflow: hidden;padding: 0;position: absolute;width: 1px;}#sk-container-id-2 div.sk-estimator {font-family: monospace;background-color: #f0f8ff;border: 1px dotted black;border-radius: 0.25em;box-sizing: border-box;margin-bottom: 0.5em;}#sk-container-id-2 div.sk-estimator:hover {background-color: #d4ebff;}#sk-container-id-2 div.sk-parallel-item::after {content: \"\";width: 100%;border-bottom: 1px solid gray;flex-grow: 1;}#sk-container-id-2 div.sk-label:hover label.sk-toggleable__label {background-color: #d4ebff;}#sk-container-id-2 div.sk-serial::before {content: \"\";position: absolute;border-left: 1px solid gray;box-sizing: border-box;top: 0;bottom: 0;left: 50%;z-index: 0;}#sk-container-id-2 div.sk-serial {display: flex;flex-direction: column;align-items: center;background-color: white;padding-right: 0.2em;padding-left: 0.2em;position: relative;}#sk-container-id-2 div.sk-item {position: relative;z-index: 1;}#sk-container-id-2 div.sk-parallel {display: flex;align-items: stretch;justify-content: center;background-color: white;position: relative;}#sk-container-id-2 div.sk-item::before, #sk-container-id-2 div.sk-parallel-item::before {content: \"\";position: absolute;border-left: 1px solid gray;box-sizing: border-box;top: 0;bottom: 0;left: 50%;z-index: -1;}#sk-container-id-2 div.sk-parallel-item {display: flex;flex-direction: column;z-index: 1;position: relative;background-color: white;}#sk-container-id-2 div.sk-parallel-item:first-child::after {align-self: flex-end;width: 50%;}#sk-container-id-2 div.sk-parallel-item:last-child::after {align-self: flex-start;width: 50%;}#sk-container-id-2 div.sk-parallel-item:only-child::after {width: 0;}#sk-container-id-2 div.sk-dashed-wrapped {border: 1px dashed gray;margin: 0 0.4em 0.5em 0.4em;box-sizing: border-box;padding-bottom: 0.4em;background-color: white;}#sk-container-id-2 div.sk-label label {font-family: monospace;font-weight: bold;display: inline-block;line-height: 1.2em;}#sk-container-id-2 div.sk-label-container {text-align: center;}#sk-container-id-2 div.sk-container {/* jupyter's `normalize.less` sets `[hidden] { display: none; }` but bootstrap.min.css set `[hidden] { display: none !important; }` so we also need the `!important` here to be able to override the default hidden behavior on the sphinx rendered scikit-learn.org. See: https://github.com/scikit-learn/scikit-learn/issues/21755 */display: inline-block !important;position: relative;}#sk-container-id-2 div.sk-text-repr-fallback {display: none;}</style><div id=\"sk-container-id-2\" class=\"sk-top-container\"><div class=\"sk-text-repr-fallback\"><pre>Pipeline(steps=[(&#x27;scaling&#x27;, StandardScaler(with_mean=False)),\n",
       "                (&#x27;classifier&#x27;,\n",
       "                 LogisticRegression(max_iter=700, solver=&#x27;saga&#x27;))])</pre><b>In a Jupyter environment, please rerun this cell to show the HTML representation or trust the notebook. <br />On GitHub, the HTML representation is unable to render, please try loading this page with nbviewer.org.</b></div><div class=\"sk-container\" hidden><div class=\"sk-item sk-dashed-wrapped\"><div class=\"sk-label-container\"><div class=\"sk-label sk-toggleable\"><input class=\"sk-toggleable__control sk-hidden--visually\" id=\"sk-estimator-id-4\" type=\"checkbox\" ><label for=\"sk-estimator-id-4\" class=\"sk-toggleable__label sk-toggleable__label-arrow\">Pipeline</label><div class=\"sk-toggleable__content\"><pre>Pipeline(steps=[(&#x27;scaling&#x27;, StandardScaler(with_mean=False)),\n",
       "                (&#x27;classifier&#x27;,\n",
       "                 LogisticRegression(max_iter=700, solver=&#x27;saga&#x27;))])</pre></div></div></div><div class=\"sk-serial\"><div class=\"sk-item\"><div class=\"sk-estimator sk-toggleable\"><input class=\"sk-toggleable__control sk-hidden--visually\" id=\"sk-estimator-id-5\" type=\"checkbox\" ><label for=\"sk-estimator-id-5\" class=\"sk-toggleable__label sk-toggleable__label-arrow\">StandardScaler</label><div class=\"sk-toggleable__content\"><pre>StandardScaler(with_mean=False)</pre></div></div></div><div class=\"sk-item\"><div class=\"sk-estimator sk-toggleable\"><input class=\"sk-toggleable__control sk-hidden--visually\" id=\"sk-estimator-id-6\" type=\"checkbox\" ><label for=\"sk-estimator-id-6\" class=\"sk-toggleable__label sk-toggleable__label-arrow\">LogisticRegression</label><div class=\"sk-toggleable__content\"><pre>LogisticRegression(max_iter=700, solver=&#x27;saga&#x27;)</pre></div></div></div></div></div></div></div>"
      ],
      "text/plain": [
       "Pipeline(steps=[('scaling', StandardScaler(with_mean=False)),\n",
       "                ('classifier',\n",
       "                 LogisticRegression(max_iter=700, solver='saga'))])"
      ]
     },
     "execution_count": 93,
     "metadata": {},
     "output_type": "execute_result"
    }
   ],
   "source": [
    "# Pipeline Initialization\n",
    "\n",
    "# Error for StandardScaler: \"Cannot center sparse matrices: pass `with_mean=False` instead. See docstring for motivation and alternatives.\"\n",
    "pipeline = Pipeline(steps=[('scaling', StandardScaler(with_mean=False)), ('classifier', LogisticRegression(solver='saga', max_iter=700))])\n",
    "pipeline"
   ]
  },
  {
   "cell_type": "code",
   "execution_count": 88,
   "metadata": {},
   "outputs": [
    {
     "name": "stdout",
     "output_type": "stream",
     "text": [
      "Pipeline (SS+LogReg) Accuracy: 33.15%\n"
     ]
    },
    {
     "name": "stderr",
     "output_type": "stream",
     "text": [
      "c:\\Users\\Eternal\\Downloads\\ENSF Masters\\ENSF 611\\Project\\ml-mbti-fullstack\\server\\venv\\lib\\site-packages\\sklearn\\linear_model\\_sag.py:350: ConvergenceWarning: The max_iter was reached which means the coef_ did not converge\n",
      "  warnings.warn(\n"
     ]
    }
   ],
   "source": [
    "# Pipeline\n",
    "pipeline.fit(X_train, y_train)\n",
    "\n",
    "Y_pred = pipeline.predict(X_test)\n",
    "predictions = [round(value) for value in Y_pred]\n",
    "\n",
    "accuracy = accuracy_score(y_test, predictions)\n",
    "accuracies['Pipeline with Scaler and LR'] = accuracy* 100.0\n",
    "print(\"Pipeline (SS+LogReg) Accuracy: %.2f%%\" % (accuracy * 100.0))"
   ]
  },
  {
   "cell_type": "code",
   "execution_count": null,
   "metadata": {},
   "outputs": [],
   "source": [
    "# Pipeline Initialization\n",
    "\n",
    "# Error for StandardScaler: \"Cannot center sparse matrices: pass `with_mean=False` instead. See docstring for motivation and alternatives.\"\n",
    "pipeline = Pipeline(steps=[('scaling', StandardScaler(with_mean=False)), ('classifier', LogisticRegression(solver='saga', max_iter=700))])\n",
    "pipeline\n",
    "\n",
    "pipeline.fit(X_train, y_train)\n",
    "\n",
    "Y_pred = pipeline.predict(X_test)\n",
    "predictions = [round(value) for value in Y_pred]\n",
    "\n",
    "accuracy = accuracy_score(y_test, predictions)\n",
    "accuracies['Pipeline with Scaler and LR'] = accuracy* 100.0\n",
    "print(\"Pipeline (SS+LogReg) Accuracy: %.2f%%\" % (accuracy * 100.0))"
   ]
  },
  {
   "cell_type": "code",
   "execution_count": 95,
   "metadata": {},
   "outputs": [
    {
     "data": {
      "text/html": [
       "<div>\n",
       "<style scoped>\n",
       "    .dataframe tbody tr th:only-of-type {\n",
       "        vertical-align: middle;\n",
       "    }\n",
       "\n",
       "    .dataframe tbody tr th {\n",
       "        vertical-align: top;\n",
       "    }\n",
       "\n",
       "    .dataframe thead th {\n",
       "        text-align: right;\n",
       "    }\n",
       "</style>\n",
       "<table border=\"1\" class=\"dataframe\">\n",
       "  <thead>\n",
       "    <tr style=\"text-align: right;\">\n",
       "      <th></th>\n",
       "      <th>Accuracies (%)</th>\n",
       "    </tr>\n",
       "  </thead>\n",
       "  <tbody>\n",
       "    <tr>\n",
       "      <th>Logistic Regression</th>\n",
       "      <td>59.335443</td>\n",
       "    </tr>\n",
       "    <tr>\n",
       "      <th>Pipeline with Scaler and LR</th>\n",
       "      <td>33.148734</td>\n",
       "    </tr>\n",
       "  </tbody>\n",
       "</table>\n",
       "</div>"
      ],
      "text/plain": [
       "                             Accuracies (%)\n",
       "Logistic Regression               59.335443\n",
       "Pipeline with Scaler and LR       33.148734"
      ]
     },
     "execution_count": 95,
     "metadata": {},
     "output_type": "execute_result"
    }
   ],
   "source": [
    "pd.DataFrame.from_dict(accuracies, orient='index', columns=['Accuracies (%)'])"
   ]
  },
  {
   "attachments": {},
   "cell_type": "markdown",
   "metadata": {},
   "source": [
    "#### Results from the LogisticRegression Tests\n",
    "\n",
    "From the Accuracy Table above, it looks like the Pipeline with StandardScaler and LogisticRegression performed significantly worse than just LogisticRegression by itself. Both LogReg used the same SAGA solver and identical max_iter=700 values. The addition of the StandardScaler reduced the accuracy. Although multiple StackOverflow posts said that LogReg prefers the use of Scaled data, it seems like it did not work well in this case because it is a text-related problem. Standard Scaler aims to standardize features by removing the mean. Likely, does not have a positive effect on this text-reliant inputs."
   ]
  },
  {
   "attachments": {},
   "cell_type": "markdown",
   "metadata": {},
   "source": [
    "## Further Pre-processing"
   ]
  },
  {
   "attachments": {},
   "cell_type": "markdown",
   "metadata": {},
   "source": [
    "As outlined in the 'MBTI Kaggle Notebook' that I am following, the author went through multiple ML models but was unable to get an accurate result even after changing the training/testing data distributions. The reasoning for this is likely that the model must choose between 1 of 16 classifications. Intuitively, this is very difficult to do. A more effective solution would be to split each letter of the Type it into four sections. \n",
    "\n",
    "- Introversion (I) | Extroversion (E)\n",
    "- Intuition (N) | Sensing (S)\n",
    "- Thinking (T) | Feeling (F)\n",
    "- Judging (J) | Perception (P)\n",
    "\n",
    "For example, INTJ would be I, N, T, and J. Now with this, the model does not have to choose INTJ from the 16 classifcations directly. The model would choose I from I/E, N from N/S, T from T/F, and J from J/P.\n",
    "\n",
    "Even if they predict a personality type of INTP (one less off from INTJ), that is still quite accurate. Additioanlly, another positive of this separation is that it is easier to train the model. As shown later in the Notebook, we can train the machine learning model four times, one for each section (I/E, N/S, T/F, and J/P)."
   ]
  },
  {
   "cell_type": "code",
   "execution_count": 96,
   "metadata": {},
   "outputs": [
    {
     "name": "stderr",
     "output_type": "stream",
     "text": [
      "[nltk_data] Downloading package stopwords to\n",
      "[nltk_data]     C:\\Users\\Eternal\\AppData\\Roaming\\nltk_data...\n",
      "[nltk_data]   Package stopwords is already up-to-date!\n",
      "[nltk_data] Downloading package wordnet to\n",
      "[nltk_data]     C:\\Users\\Eternal\\AppData\\Roaming\\nltk_data...\n",
      "[nltk_data]   Package wordnet is already up-to-date!\n",
      "[nltk_data] Downloading package omw-1.4 to\n",
      "[nltk_data]     C:\\Users\\Eternal\\AppData\\Roaming\\nltk_data...\n",
      "[nltk_data]   Package omw-1.4 is already up-to-date!\n"
     ]
    },
    {
     "data": {
      "text/plain": [
       "True"
      ]
     },
     "execution_count": 96,
     "metadata": {},
     "output_type": "execute_result"
    }
   ],
   "source": [
    "# Per Lab W14, preprocessing for text includes:\n",
    "# Normalizing count (tf-idf)\n",
    "# Reduce the vocab (remove stop-words, stemming/lemmatization)\n",
    "# N-grams\n",
    "\n",
    "# Download NLTK packages\n",
    "nltk.download('stopwords') # Stopwords\n",
    "nltk.download('wordnet') # Wordnet\n",
    "nltk.download('omw-1.4') # Open Multilingual Wordnet"
   ]
  },
  {
   "attachments": {},
   "cell_type": "markdown",
   "metadata": {},
   "source": [
    "### Stemming vs. Lemmatization Explanation\n",
    "\n",
    "Stemming and Lemmatization are methods to obtain the derived word so that it can be compared to other similar words with the same root. Stemming simply cut off parts of words to achieve a 'stem' of the word. Although this is very quick, it sometimes leads to inaccuracies. Lemmatization, on the other hand, is more proper and uses vocabulary analysis of the word to determine if words are similar or not. Although Lemmatization is usually more difficult, it will lead to greater accuracies if implemented.\n",
    "\n",
    "Source: https://nlp.stanford.edu/IR-book/html/htmledition/stemming-and-lemmatization-1.html"
   ]
  },
  {
   "cell_type": "code",
   "execution_count": 99,
   "metadata": {},
   "outputs": [],
   "source": [
    "# Initialize Word Lemmatization\n",
    "lemmatiser = WordNetLemmatizer()\n",
    "\n",
    "# Initialize Stopwords\n",
    "stops = stopwords.words('english')"
   ]
  },
  {
   "attachments": {},
   "cell_type": "markdown",
   "metadata": {},
   "source": [
    "### List/Dictionary Explanation\n",
    "\n",
    "There is a list called unique_type_list which contains a list of all 16 types contained in teh dataset. This is converted to lowercase, and is used in the preprocessing function defined later to remove all instances of the mbti words in the post. \n",
    "\n",
    "There is also two dictionaries. \n",
    "One contains the the key-value pair of letter to number. This converts from letters to binary. For example, INFJ would be [0 0 0 0].\n",
    "The second contains an array of 4 dictionaries, with the key being the binary value, and the value being the letter. This can convert from Binary to Letters. For example [0 0 0 0] would be converted to I N F J as a string.\n",
    "\n",
    "Finally there are two functions that handle converting MBTI to binary, and binary back to MBTI."
   ]
  },
  {
   "cell_type": "code",
   "execution_count": 113,
   "metadata": {},
   "outputs": [
    {
     "name": "stdout",
     "output_type": "stream",
     "text": [
      "Binarized MBTI list for Entire Dataset: \n",
      "[[0 0 0 0]\n",
      " [1 0 1 1]\n",
      " [0 0 1 1]\n",
      " ...\n",
      " [0 0 1 1]\n",
      " [0 0 0 1]\n",
      " [0 0 0 1]]\n",
      "Translated Back MBTI list: \n",
      "['INFJ' 'ENTP' 'INTP' ... 'INTP' 'INFP' 'INFP']\n"
     ]
    }
   ],
   "source": [
    "# Remove these from the posts\n",
    "# unique_type_list = ['INFJ', 'ENTP', 'INTP', 'INTJ', 'ENTJ', 'ENFJ', 'INFP', 'ENFP', 'ISFP', 'ISTP', 'ISFJ', 'ISTJ', 'ESTP', 'ESFP', 'ESTJ', 'ESFJ']\n",
    "unique_type_list = data['type'].unique().tolist() # Rather than doing above, can find all unique 'types' from the dataset\n",
    "unique_type_list = [x.lower() for x in unique_type_list] # Change to lowercase\n",
    "\n",
    "# Dictionary of each personality type in Binary. For example, I = 0, E = 1.\n",
    "# Given a Letter as a Key, convert to Binary Value\n",
    "b_Pers = {'I':0, 'E':1, 'N':0, 'S':1, 'F':0, 'T':1, 'J':0, 'P':1}\n",
    "\n",
    "# Given a Binary Number as a Key, find the Associated Value\n",
    "b_Pers_list = [{0:'I', 1:'E'}, {0:'N', 1:'S'}, {0:'F', 1:'T'}, {0:'J', 1:'P'}]\n",
    "\n",
    "# Transform MBTI to Binary Vector form\n",
    "def translate_personality(personality):\n",
    "    return [b_Pers[l] for l in personality]\n",
    "\n",
    "# Transform Binary Vector back to MBTI Personality\n",
    "def translate_back(personality):\n",
    "    s = \"\"\n",
    "    for i, l in enumerate(personality):\n",
    "        s += b_Pers_list[i][l]\n",
    "    return s\n",
    "\n",
    "# Example Below:\n",
    "list_personality_bin = np.array([translate_personality(p) for p in data.type])\n",
    "print(\"Binarized MBTI list for Entire Dataset: \\n%s\" % list_personality_bin)\n",
    "\n",
    "list_personality_type = np.array([translate_back(p) for p in list_personality_bin])\n",
    "print(\"Translated Back MBTI list: \\n%s\" % list_personality_type)"
   ]
  },
  {
   "attachments": {},
   "cell_type": "markdown",
   "metadata": {},
   "source": [
    "We can once again do further pre-processing. This function is fairly similar to the one above, but it handles the four different categories of the type."
   ]
  },
  {
   "cell_type": "code",
   "execution_count": 114,
   "metadata": {},
   "outputs": [],
   "source": [
    "# Further pre-processing\n",
    "\n",
    "# Code from: https://www.kaggle.com/code/rajshreev/mbti-personality-predictor-using-machine-learning\n",
    "\n",
    "def pre_process_text(data, remove_stop_words=True, remove_mbti_profiles=True):\n",
    "  list_personality = []\n",
    "  list_posts = []\n",
    "  \n",
    "  for row in data.iterrows():\n",
    "\n",
    "      #Remove and clean comments\n",
    "      posts = row[1].posts\n",
    "\n",
    "      #Remove url links \n",
    "      temp = re.sub('http[s]?://(?:[a-zA-Z]|[0-9]|[$-_@.&+]|(?:%[0-9a-fA-F][0-9a-fA-F]))+', ' ', posts)\n",
    "\n",
    "      #Remove Non-words - keep only words\n",
    "      temp = re.sub(\"[^a-zA-Z]\", \" \", temp)\n",
    "\n",
    "      # Remove spaces > 1\n",
    "      temp = re.sub(' +', ' ', temp).lower()\n",
    "\n",
    "      #Remove multiple letter repeating words\n",
    "      temp = re.sub(r'([a-z])\\1{2,}[\\s|\\w]*', '', temp)\n",
    "\n",
    "      #Remove stop words\n",
    "      if remove_stop_words:\n",
    "          temp = \" \".join([lemmatiser.lemmatize(w) for w in temp.split(' ') if w not in stops])\n",
    "      else:\n",
    "          temp = \" \".join([lemmatiser.lemmatize(w) for w in temp.split(' ')])\n",
    "          \n",
    "      #Remove MBTI personality words from posts\n",
    "      if remove_mbti_profiles:\n",
    "          for t in unique_type_list:\n",
    "              temp = temp.replace(t,\"\")\n",
    "\n",
    "      # transform mbti to binary vector\n",
    "      type_labelized = translate_personality(row[1].type)\n",
    "      list_personality.append(type_labelized)\n",
    "      # the cleaned data temp is passed here\n",
    "      list_posts.append(temp)\n",
    "\n",
    "  # returns the result\n",
    "  list_posts = np.array(list_posts)\n",
    "  list_personality = np.array(list_personality)\n",
    "  return list_posts, list_personality"
   ]
  },
  {
   "cell_type": "code",
   "execution_count": 115,
   "metadata": {},
   "outputs": [
    {
     "name": "stdout",
     "output_type": "stream",
     "text": [
      "Example :\n",
      "\n",
      "Post before preprocessing:\n",
      "\n",
      "     enfp  intj moments   sportscenter    plays   pranks   what  been  most lifechanging experience  your life eostokenquest        repeat  most  today eostokendot      perc experience immerse  eostokendot     last thing  infj friend posted   facebook before committing suicide  next  eostokendot  rest  peace     hello enfj eostokendot  sorry  hear  your distress eostokendot   only natural   relationship    perfection   time  every moment  existence eostokendot    figure  hard times  times  growth  eostokendot  eostokendot  eostokendot          eostokendot  eostokendot  eostokendot    welcome  stuff eostokendot     game eostokendot   eostokendot  match eostokendot    prozac wellbrutin  least thirty minutes  moving your legs   dont mean moving them while sitting  your same desk chair weed  moderation maybe  edibles   healthier alternative eostokendot  eostokendot  eostokendot    basically come  with three items youve determined that each type  whichever types  want   would more than likely  given each types cognitive functions  whatnot when left  eostokendot  eostokendot  eostokendot     things  moderation eostokendot   sims  indeed  video game   good   that eostokendot  note  good   that  somewhat subjective  that    completely promoting  death   given  eostokendot  eostokendot  eostokendot    dear enfp  what were your favorite video games growing   what  your  current favorite video games eostokenquest  cool      appears    late eostokendot     theres someone  there  everyone eostokendot    wait eostokendot  eostokendot  eostokendot   thought confidence   good thing eostokendot     just cherish  time  solitude   revel within  inner world more whereas most other time   workin eostokendot  eostokendot  eostokendot  just enjoy   time while   eostokendot  dont worry people will always  around  eostokendot  eostokendot  eostokendot     entp ladies eostokendot  eostokendot  eostokendot   youre into  complimentary personalitywell  eostokendot     eostokendot  eostokendot  eostokendot  when your main social outlet  xbox live conversations  even then  verbally fatigue quickly eostokendot      really   part from        banned because this thread requires    eostokendot     high  backyard roast   marshmellows  backyard while conversing over something intellectual followed  massages  kisses eostokendot          banned   many   that sentence eostokendot   could  eostokenexs  think    eostokenexs    banned  watching movies   corner with  dunces eostokendot    banned because health class clearly taught  nothing about peer pressure eostokendot    banned   whole host  reasons eostokenexs        baby deer  left  right munching   beetle   middle eostokendot    using their  blood  cavemen diary todays latest happenings  their designated cave diary wall eostokendot        eostokendot  eostokendot  eostokendot     pokemon world   infj society  everyone becomes  optimist                artists  artists because they draw eostokendot    idea that counts  forming something  your  eostokendot  eostokendot  eostokendot  like  signature eostokendot    welcome   robot ranks person  downed  selfesteem     avid signature artist like herself eostokendot  proud   banned  taking   room under   eostokendot   gotta learn  share with  roaches eostokendot      banned  being  much   thundering grumbling kind  storm eostokendot  eostokendot  eostokendot   eostokendot     eostokendot  eostokendot  eostokendot   high school music  havent heard  ages eostokendot       failed  public speaking class   years    sort  learned what  could  better were     that position again eostokendot    part   failure  just overloading myself with  eostokendot  eostokendot  eostokendot     like this persons mentality eostokendot    confirmed intj    eostokendot    move   denver area  start   life  myself eostokendot         \n",
      "\n",
      "Post after preprocessing:\n",
      "\n",
      "    moment sportscenter play prank lifechanging experience life eostokenquest repeat today eostokendot perc experience immerse eostokendot last thing  friend posted facebook committing suicide next eostokendot rest peace hello  eostokendot sorry hear distress eostokendot natural relationship perfection time every moment existence eostokendot figure hard time time growth eostokendot eostokendot eostokendot eostokendot eostokendot eostokendot welcome stuff eostokendot game eostokendot eostokendot match eostokendot prozac wellbrutin least thirty minute moving leg dont mean moving sitting desk chair weed moderation maybe edible healthier alternative eostokendot eostokendot eostokendot basically come three item youve determined type whichever type want would likely given type cognitive function whatnot left eostokendot eostokendot eostokendot thing moderation eostokendot sims indeed video game good eostokendot note good somewhat subjective completely promoting death given eostokendot eostokendot eostokendot dear  favorite video game growing current favorite video game eostokenquest cool appears late eostokendot there someone everyone eostokendot wait eostokendot eostokendot eostokendot thought confidence good thing eostokendot cherish time solitude revel within inner world whereas time workin eostokendot eostokendot eostokendot enjoy time eostokendot dont worry people always around eostokendot eostokendot eostokendot  lady eostokendot eostokendot eostokendot youre complimentary personalitywell eostokendot eostokendot eostokendot eostokendot main social outlet xbox live conversation even verbally fatigue quickly eostokendot really part banned thread requires eostokendot high backyard roast marshmellows backyard conversing something intellectual followed massage kiss eostokendot banned many sentence eostokendot could eostokenexs think eostokenexs banned watching movie corner dunce eostokendot banned health class clearly taught nothing peer pressure eostokendot banned whole host reason eostokenexs baby deer left right munching beetle middle eostokendot using blood caveman diary today latest happening designated cave diary wall eostokendot eostokendot eostokendot eostokendot pokemon world  society everyone becomes optimist artist artist draw eostokendot idea count forming something eostokendot eostokendot eostokendot like signature eostokendot welcome robot rank person downed selfesteem avid signature artist like eostokendot proud banned taking room eostokendot gotta learn share roach eostokendot banned much thundering grumbling kind storm eostokendot eostokendot eostokendot eostokendot eostokendot eostokendot eostokendot high school music havent heard age eostokendot failed public speaking class year sort learned could better position eostokendot part failure overloading eostokendot eostokendot eostokendot like person mentality eostokendot confirmed  eostokendot move denver area start life eostokendot \n",
      "\n",
      "MBTI before preprocessing:\n",
      "\n",
      " INFJ\n",
      "\n",
      "MBTI after preprocessing:\n",
      "\n",
      " [0 0 0 0]\n"
     ]
    }
   ],
   "source": [
    "list_posts, list_personality  = pre_process_text(data, remove_stop_words=True, remove_mbti_profiles=True)\n",
    "\n",
    "print(\"Example :\")\n",
    "print(\"\\nPost before preprocessing:\\n\\n\", data.posts[0])\n",
    "print(\"\\nPost after preprocessing:\\n\\n\", list_posts[0])\n",
    "print(\"\\nMBTI before preprocessing:\\n\\n\", data.type[0])\n",
    "print(\"\\nMBTI after preprocessing:\\n\\n\", list_personality[0])"
   ]
  },
  {
   "attachments": {},
   "cell_type": "markdown",
   "metadata": {},
   "source": [
    "### CounterVectorizer and TF-IDF\n",
    "\n",
    "CountVectorizer will make the posts turn into a bag-of-words, which means that there will be a matrix with the colmuns being the text, and the count of that word in the rows.\n",
    "\n",
    "TF-IDF is a weighting factor that evaluates the relevancy of a word in a post compared to all the other posts. This helps with context of the posts."
   ]
  },
  {
   "cell_type": "code",
   "execution_count": 118,
   "metadata": {},
   "outputs": [
    {
     "name": "stdout",
     "output_type": "stream",
     "text": [
      "Using CountVectorizer :\n",
      "10 feature names can be seen below\n",
      "[(10, 'along'), (11, 'already'), (12, 'also'), (13, 'although'), (14, 'always'), (15, 'amazing'), (16, 'amount'), (17, 'angry'), (18, 'another'), (19, 'answer')]\n",
      "CNTIZER Shape: (8675, 533)\n",
      "\n",
      "Using Tf-idf :\n",
      "Now the dataset size is as below\n",
      "TFIDF Shape: (8675, 533)\n"
     ]
    }
   ],
   "source": [
    "# Vectorizing the database posts to a matrix of token counts for the model\n",
    "cntizer = CountVectorizer(analyzer=\"word\", \n",
    "                             max_features=1000,  \n",
    "                             max_df=0.7,\n",
    "                             min_df=0.1) \n",
    "# the feature should be made of word n-gram \n",
    "# Learn the vocabulary dictionary and return term-document matrix\n",
    "\n",
    "print(\"Using CountVectorizer :\")\n",
    "X_cnt = cntizer.fit_transform(list_posts)\n",
    "\n",
    "#The enumerate object yields pairs containing a count and a value (useful for obtaining an indexed list)\n",
    "feature_names = list(enumerate(cntizer.get_feature_names_out()))\n",
    "print(\"10 feature names can be seen below\")\n",
    "print(feature_names[10:20])\n",
    "\n",
    "print(\"CNTIZER Shape:\",X_cnt.shape)\n",
    "\n",
    "# For the Standardization or Feature Scaling Stage :-\n",
    "# Transform the count matrix to a normalized tf or tf-idf representation\n",
    "tfizer = TfidfTransformer()\n",
    "\n",
    "# Learn the idf vector (fit) and transform a count matrix to a tf-idf representation\n",
    "print(\"\\nUsing Tf-idf :\")\n",
    "\n",
    "print(\"Now the dataset size is as below\")\n",
    "X_tfidf =  tfizer.fit_transform(X_cnt).toarray()\n",
    "print(\"TFIDF Shape:\",X_tfidf.shape)"
   ]
  },
  {
   "cell_type": "code",
   "execution_count": 125,
   "metadata": {},
   "outputs": [
    {
     "name": "stdout",
     "output_type": "stream",
     "text": [
      "IE: Introversion (I) | Extroversion (E)\n",
      "NS: Intuition (N) | Sensing (S)\n",
      "FT: Feeling (F) | Thinking (T)\n",
      "JP: Judging (J) | Perceiving (P)\n",
      "\n",
      "For MBTI personality type : INTJ\n",
      "Y : Binarized MBTI 1st row: [0 0 1 0]\n"
     ]
    }
   ],
   "source": [
    "personality_type = [ \"IE: Introversion (I) | Extroversion (E)\", \"NS: Intuition (N) | Sensing (S)\", \n",
    "                   \"FT: Feeling (F) | Thinking (T)\", \"JP: Judging (J) | Perceiving (P)\"  ]\n",
    "\n",
    "for p_type in personality_type:\n",
    "    print(p_type)\n",
    "\n",
    "print(\"\\nFor MBTI personality type : %s\" % translate_back(list_personality[5,:]))\n",
    "print(\"Y : Binarized MBTI 1st row: %s\" % list_personality[5,:])"
   ]
  },
  {
   "cell_type": "code",
   "execution_count": 126,
   "metadata": {},
   "outputs": [],
   "source": [
    "# Make X = the transformed tfidf data matrix\n",
    "X = X_tfidf"
   ]
  },
  {
   "attachments": {},
   "cell_type": "markdown",
   "metadata": {},
   "source": [
    "### Machine Learning\n",
    "\n",
    "We can start on the machine learning after completing the final pre-processing step. I wanted to explore the RandomForest classification model. As advised by the Kaggle Notebook, I will be training and testing the model for each of the four categories (ex. I/E, N/S, etc.). Then for each iteration, the model will predict and append the binary form of the MBTI type to the list. Using the list, we can convert back to the MBTI in letter format."
   ]
  },
  {
   "cell_type": "code",
   "execution_count": 129,
   "metadata": {},
   "outputs": [
    {
     "name": "stdout",
     "output_type": "stream",
     "text": [
      "IE: Introversion (I) | Extroversion (E) Accuracy: 77.10%\n",
      "NS: Intuition (N) | Sensing (S) Accuracy: 85.56%\n",
      "FT: Feeling (F) | Thinking (T) Accuracy: 68.81%\n",
      "JP: Judging (J) | Perceiving (P) Accuracy: 60.62%\n"
     ]
    }
   ],
   "source": [
    "#Random Forest model for MBTI dataset\n",
    "# Individually training each mbti personlity type\n",
    "results = []\n",
    "for l in range(len(personality_type)):\n",
    "    \n",
    "    Y = list_personality[:,l]\n",
    "\n",
    "    # split data into train and test sets\n",
    "    X_train, X_test, y_train, y_test = train_test_split(X, Y, test_size=0.3, random_state=8)\n",
    "\n",
    "    # fit model on training data\n",
    "    model = RandomForestClassifier()\n",
    "    model.fit(X_train, y_train)\n",
    "\n",
    "    # make predictions for test data\n",
    "    y_pred = model.predict(X_test)\n",
    "    results.append(y_pred[0])\n",
    "    \n",
    "    predictions = [round(value) for value in y_pred]\n",
    "    # evaluate predictions\n",
    "    accuracy = accuracy_score(y_test, predictions)\n",
    "    \n",
    "    print(\"%s Accuracy: %.2f%%\" % (personality_type[l], accuracy * 100.0))"
   ]
  },
  {
   "cell_type": "code",
   "execution_count": 132,
   "metadata": {},
   "outputs": [
    {
     "name": "stdout",
     "output_type": "stream",
     "text": [
      "Binary Result: [0, 0, 0, 1]\n",
      "Predicted MBTI:  INFP\n"
     ]
    }
   ],
   "source": [
    "print(\"Binary Result:\", results)\n",
    "print(\"Predicted MBTI: \", translate_back(results))"
   ]
  },
  {
   "attachments": {},
   "cell_type": "markdown",
   "metadata": {},
   "source": [
    "### Testing the Model before Production\n",
    "\n",
    "After creating the RF model, I want to test it out using a string to see how it would take in an input to predict the MBTI. This will be useful when using the model in the backend. my_posts contains a string that we want to put through the model. Since the machine learning models do not accept string by itself, we must make it a pd.DataFrame and pass it through that way. There is dummy data as the type, just so the preprocess function can be used. Then, the data is passed through CountVectorizer, then it is transformed via TF-IDF Transformer."
   ]
  },
  {
   "cell_type": "code",
   "execution_count": 165,
   "metadata": {},
   "outputs": [
    {
     "data": {
      "text/html": [
       "<div>\n",
       "<style scoped>\n",
       "    .dataframe tbody tr th:only-of-type {\n",
       "        vertical-align: middle;\n",
       "    }\n",
       "\n",
       "    .dataframe tbody tr th {\n",
       "        vertical-align: top;\n",
       "    }\n",
       "\n",
       "    .dataframe thead th {\n",
       "        text-align: right;\n",
       "    }\n",
       "</style>\n",
       "<table border=\"1\" class=\"dataframe\">\n",
       "  <thead>\n",
       "    <tr style=\"text-align: right;\">\n",
       "      <th></th>\n",
       "      <th>type</th>\n",
       "      <th>posts</th>\n",
       "    </tr>\n",
       "  </thead>\n",
       "  <tbody>\n",
       "    <tr>\n",
       "      <th>0</th>\n",
       "      <td>INFJ</td>\n",
       "      <td>NO ONE CHANGES THE WORLD ALONE.\\nIt's a simpl...</td>\n",
       "    </tr>\n",
       "  </tbody>\n",
       "</table>\n",
       "</div>"
      ],
      "text/plain": [
       "   type                                              posts\n",
       "0  INFJ   NO ONE CHANGES THE WORLD ALONE.\\nIt's a simpl..."
      ]
     },
     "execution_count": 165,
     "metadata": {},
     "output_type": "execute_result"
    }
   ],
   "source": [
    "my_posts = \"\"\" NO ONE CHANGES THE WORLD ALONE. \n",
    "It's a simple truth, but a powerful one. And it's a sentiment that has guided me my entire life. It's what led me to Chicago as a young man, eager to make a difference but unsure how to do it, searching for mentors and a community that I might be able to help out. It's what sustained my campaigns and my time in the White House—the support of millions of people who shared the belief that lasting change can only come from the bottom up. And it's the idea that Michelle and I have devoted our lives to through our Foundation, an organization committed to inspiring, empowering, and connecting people with the voice and the vision for a better tomorrow.\n",
    "Because the world can use more leaders. I saw that clearly during my time in the White House, and I believe that even more today. When global progress is halted, it's not because we lack the solutions to our problems. People don't go hungry because we don't know how to grow food. Children don't die because we lack cures to common diseases. Schools don't fail because we don't know how to provide a quality education.\n",
    "We face these and other challenges, as unique as they are, for a similar reason: because we need the kind of inclusive, ethical leadership that can channel a people's will into progress that benefits everyone. We need fresh eyes and diverse perspectives that can help us question and change our current ways of thinking.\n",
    "That's why the Obama Foundation is supporting emerging leaders throughout the world—because we believe that the community leaders of today will become the global leaders of tomorrow.\n",
    "And I don't just mean politicians and presidents.\n",
    "Leadership is necessary at all levels of a society. We need more grassroots leaders who are willing to go into their communities to ensure everyone's voice is heard. We need more entrepreneurs and private sector executives who understand that enriching their communities and workforce can be just as valuable as enriching their shareholders. We need more advocates who are willing to challenge systems of oppression and ensure that potential is met with opportunity, regardless of race or gender, culture or creed, orientation or belief.\n",
    "We need more jurists and thinkers and scientists and engineers and artists and everyday people, everywhere, to step up, realize our fates are intertwined, and help lead us into a brighter future.\n",
    "Those are the leaders of tomorrow that we seek to prepare today.\n",
    "Throughout these pages, you'll see how the Obama Foundation is working to identify and support those leaders, whether it's amplifying the impact of established changemakers like our Fellows and Scholars, offering substantive training programs to emerging voices in communities at home or regions abroad, or breaking down barriers for boys and young men of color in the U.S. and girls around the world so that they can thrive and lead as well.\n",
    "To me, the stories that really stand out are the stories of connection—young men and young women who've met each other through the Foundation's work and have been able to improve people's lives in dramatic new ways as a result.\n",
    "These are connections that would not otherwise exist— Scholars from Asia, Leaders from Africa, Fellows from Europe, college students from Chicago—all forming bonds that will support and enrich them for years to come. Some met during the course of our programming. Some met during our 2018 Summit.\n",
    "Some will soon meet through a digital network we're building. And many, many more will meet at the Obama Presidential Center, a campus that will attract people from around the world, while honoring Chicago's history as a crucible for change.\n",
    "Today they all know that they're not alone as they pursue progress.\n",
    "And in the days and years ahead, they will change the world—together. \"\"\"\n",
    "\n",
    "# Letter Source: https://www.obama.org/annual-report-2018/letter-president-obama/\n",
    "\n",
    "# The type is just a dummy so that the data prep function can be reused\n",
    "mydata = pd.DataFrame(data={'type': ['INFJ'], 'posts': [my_posts]})\n",
    "mydata.head()\n"
   ]
  },
  {
   "cell_type": "code",
   "execution_count": 166,
   "metadata": {},
   "outputs": [
    {
     "name": "stdout",
     "output_type": "stream",
     "text": [
      "Pre-processed Post:\n",
      " [' one change world alone simple truth powerful one sentiment guided entire life led chicago young man eager make difference unsure searching mentor community might able help sustained campaign time white house support million people shared belief lasting change come bottom idea michelle devoted life foundation organization committed inspiring empowering connecting people voice vision better tomorrow world use leader saw clearly time white house believe even today global progress halted lack solution problem people go hungry know grow food child die lack cure common disease school fail know provide quality education face challenge unique similar reason need kind inclusive ethical leadership channel people progress benefit everyone need fresh eye diverse perspective help u question change current way thinking obama foundation supporting emerging leader throughout world believe community leader today become global leader tomorrow mean politician president leadership necessary level society need grassroots leader willing go community ensure everyone voice heard need entrepreneur private sector executive understand enriching community workforce valuable enriching shareholder need advocate willing challenge system oppression ensure potential met opportunity regardless race gender culture creed orientation belief need jurist thinker scientist engineer artist everyday people everywhere step realize fate intertwined help lead u brighter future leader tomorrow seek prepare today throughout page see obama foundation working identify support leader whether amplifying impact established changemakers like fellow scholar offering substantive training program emerging voice community home region abroad breaking barrier boy young men color u girl around world thrive lead well story really stand story connection young men young woman met foundation work able improve people life dramatic new way result connection would otherwise exist scholar asia leader africa fellow europe college student chicago forming bond support enrich year come met course programming met summit soon meet digital network building many many meet obama presidential center campus attract people around world honoring chicago history crucible change today know alone pursue progress day year ahead change world together ']\n"
     ]
    }
   ],
   "source": [
    "my_posts, dummy  = pre_process_text(mydata, remove_stop_words=True, remove_mbti_profiles=True)\n",
    "\n",
    "print(\"Pre-processed Post:\\n\", my_posts)\n",
    "\n",
    "my_X_cnt = cntizer.transform(my_posts)\n",
    "my_X_tfidf =  tfizer.transform(my_X_cnt).toarray()"
   ]
  },
  {
   "cell_type": "code",
   "execution_count": 185,
   "metadata": {},
   "outputs": [
    {
     "name": "stdout",
     "output_type": "stream",
     "text": [
      "[0]\n",
      "[0]\n",
      "[1]\n",
      "[1]\n",
      "[0, 0, 1, 1]\n",
      "The result is:  INTP\n",
      "Train Score: 0.9959205391982973\n",
      "Test Score: 0.6160684886401053\n"
     ]
    }
   ],
   "source": [
    "test_results = []\n",
    "\n",
    "for l in range(len(personality_type)):\n",
    "    \n",
    "    Y = list_personality[:,l]\n",
    "\n",
    "    # split data into train and test sets\n",
    "    X_train, X_test, y_train, y_test = train_test_split(X, Y, test_size=0.35, random_state=7)\n",
    "\n",
    "    model = RandomForestClassifier()    \n",
    "    # fit model on training data\n",
    "    model.fit(X_train, y_train)\n",
    "\n",
    "    # make predictions for test data\n",
    "    y_pred = model.predict(my_X_tfidf)\n",
    "    print(y_pred)\n",
    "    test_results.append(y_pred[0])\n",
    "\n",
    "print(test_results)\n",
    "print(\"The result is: \", translate_back(test_results))\n",
    "print(\"Train Score:\",model.score(X_train, y_train))\n",
    "print(\"Test Score:\",model.score(X_test, y_test))"
   ]
  },
  {
   "attachments": {},
   "cell_type": "markdown",
   "metadata": {},
   "source": [
    "## RandomSearchCV\n",
    "\n",
    "The Original RandomForest predicted the author of the above letter to be INTP. The letter was from Former President of the United States, Barack Obama. According to source on the internet, he is sepculated to be ENTP. Perhaps we can try to make the model more accurate by changing the hyper-parameters. Originally I used GridSearchCV, however since I need to run the model four times, this was taking an extremely long time. I settled for RandomSearchCV and only changed two hyper-parameters. I set the RandomSearchCV n_iter to be only 50. For more accurate results, it should be higher. But even with those settings, the run-time code around 5 minutes."
   ]
  },
  {
   "cell_type": "code",
   "execution_count": 153,
   "metadata": {},
   "outputs": [
    {
     "name": "stdout",
     "output_type": "stream",
     "text": [
      "{'n_estimators': [200, 500, 800], 'max_depth': [10, 30, 50, None]}\n"
     ]
    }
   ],
   "source": [
    "from sklearn.model_selection import GridSearchCV\n",
    "from sklearn.model_selection import RandomizedSearchCV\n",
    "\n",
    "# Param Grid for RF: https://towardsdatascience.com/hyperparameter-tuning-the-random-forest-in-python-using-scikit-learn-28d2aa77dd74\n",
    "n_estimators = [int(x) for x in np.linspace(start = 200, stop = 800, num = 3)]\n",
    "max_depth = [int(x) for x in np.linspace(10, 50, num = 3)]\n",
    "max_depth.append(None)\n",
    "\n",
    "min_samples_split = [2, 5, 10]\n",
    "min_samples_leaf = [1, 2, 4]\n",
    "\n",
    "random_grid = dict(n_estimators=n_estimators, max_depth=max_depth)\n",
    "print(random_grid)"
   ]
  },
  {
   "cell_type": "code",
   "execution_count": 154,
   "metadata": {},
   "outputs": [
    {
     "name": "stderr",
     "output_type": "stream",
     "text": [
      "c:\\Users\\Eternal\\Downloads\\ENSF Masters\\ENSF 611\\Project\\ml-mbti-fullstack\\server\\venv\\lib\\site-packages\\sklearn\\model_selection\\_search.py:306: UserWarning: The total space of parameters 12 is smaller than n_iter=50. Running 12 iterations. For exhaustive searches, use GridSearchCV.\n",
      "  warnings.warn(\n"
     ]
    },
    {
     "name": "stdout",
     "output_type": "stream",
     "text": [
      "Fitting 3 folds for each of 12 candidates, totalling 36 fits\n",
      "0.767292490118577 {'n_estimators': 200, 'max_depth': 10}\n",
      "Fitting 3 folds for each of 12 candidates, totalling 36 fits\n"
     ]
    },
    {
     "name": "stderr",
     "output_type": "stream",
     "text": [
      "c:\\Users\\Eternal\\Downloads\\ENSF Masters\\ENSF 611\\Project\\ml-mbti-fullstack\\server\\venv\\lib\\site-packages\\sklearn\\model_selection\\_search.py:306: UserWarning: The total space of parameters 12 is smaller than n_iter=50. Running 12 iterations. For exhaustive searches, use GridSearchCV.\n",
      "  warnings.warn(\n"
     ]
    },
    {
     "name": "stdout",
     "output_type": "stream",
     "text": [
      "0.8619894598155468 {'n_estimators': 200, 'max_depth': 10}\n",
      "Fitting 3 folds for each of 12 candidates, totalling 36 fits\n"
     ]
    },
    {
     "name": "stderr",
     "output_type": "stream",
     "text": [
      "c:\\Users\\Eternal\\Downloads\\ENSF Masters\\ENSF 611\\Project\\ml-mbti-fullstack\\server\\venv\\lib\\site-packages\\sklearn\\model_selection\\_search.py:306: UserWarning: The total space of parameters 12 is smaller than n_iter=50. Running 12 iterations. For exhaustive searches, use GridSearchCV.\n",
      "  warnings.warn(\n"
     ]
    },
    {
     "name": "stdout",
     "output_type": "stream",
     "text": [
      "0.7033926218708828 {'n_estimators': 500, 'max_depth': 50}\n",
      "Fitting 3 folds for each of 12 candidates, totalling 36 fits\n"
     ]
    },
    {
     "name": "stderr",
     "output_type": "stream",
     "text": [
      "c:\\Users\\Eternal\\Downloads\\ENSF Masters\\ENSF 611\\Project\\ml-mbti-fullstack\\server\\venv\\lib\\site-packages\\sklearn\\model_selection\\_search.py:306: UserWarning: The total space of parameters 12 is smaller than n_iter=50. Running 12 iterations. For exhaustive searches, use GridSearchCV.\n",
      "  warnings.warn(\n"
     ]
    },
    {
     "name": "stdout",
     "output_type": "stream",
     "text": [
      "0.6049077733860342 {'n_estimators': 500, 'max_depth': 30}\n"
     ]
    }
   ],
   "source": [
    "# WARNING: SECTION TAKES 4-5 MINUTES TO RUN\n",
    "for l in range(len(personality_type)):\n",
    "    \n",
    "    Y = list_personality[:,l]\n",
    "\n",
    "    # split data into train and test sets\n",
    "    X_train, X_test, y_train, y_test = train_test_split(X, Y, test_size=0.30, random_state=7)\n",
    "\n",
    "    model2 = RandomForestClassifier()    \n",
    "\n",
    "    rf_random = RandomizedSearchCV(estimator = model2, param_distributions = random_grid, n_iter = 50, cv = 3, verbose=2, random_state=611, n_jobs = -1)\n",
    "    # fit model on training data\n",
    "    grid_result = rf_random.fit(X_train, y_train)\n",
    "\n",
    "    print(grid_result.best_score_, grid_result.best_params_)"
   ]
  },
  {
   "attachments": {},
   "cell_type": "markdown",
   "metadata": {},
   "source": [
    "### Results from RandomSearchCV for RandomForest\n",
    "\n",
    "The results from the above code block is as follows:\n",
    "\n",
    "- Iteration 1 (I/E): 0.767292490118577 {'n_estimators': 200, 'max_depth': 10}\n",
    "- Iteration 2 (N/S): 0.8619894598155468 {'n_estimators': 200, 'max_depth': 10}\n",
    "- Iteration 3 (F/T): 0.7033926218708828 {'n_estimators': 500, 'max_depth': 50}\n",
    "- Iteration 4 (J/P): 0.6049077733860342 {'n_estimators': 500, 'max_depth': 30}\n",
    "\n",
    "I was originally thinking of initializing a new RandomForest() for every iteration, but I did not think that it would work, so I settled on choosing the best hyper-parameers that would give the best score for all four. I settled on n_estimators = 200 and max_depth = 10."
   ]
  },
  {
   "cell_type": "code",
   "execution_count": 188,
   "metadata": {},
   "outputs": [
    {
     "name": "stdout",
     "output_type": "stream",
     "text": [
      "[1]\n",
      "[1]\n",
      "[1]\n",
      "[1]\n",
      "[1, 1, 1, 1]\n",
      "The result is:  ESTP\n"
     ]
    }
   ],
   "source": [
    "test_results_bestrf = []\n",
    "\n",
    "for l in range(len(personality_type)):\n",
    "    \n",
    "    Y = list_personality[:,l]\n",
    "\n",
    "    # split data into train and test sets\n",
    "    X_train, X_test, y_train, y_test = train_test_split(X, Y, test_size=0.35, random_state=7)\n",
    "\n",
    "    model_bestrf = RandomForestClassifier(n_estimators=300, max_depth=15)    \n",
    "    # fit model on training data\n",
    "    model_bestrf.fit(X_train, y_train)\n",
    "\n",
    "    # make predictions for test data\n",
    "    y_pred = model.predict(my_X_tfidf)\n",
    "    print(y_pred)\n",
    "    test_results_bestrf.append(y_pred[0])\n",
    "\n",
    "print(test_results_bestrf)\n",
    "print(\"The result is: \", translate_back(test_results_bestrf))"
   ]
  },
  {
   "cell_type": "code",
   "execution_count": 189,
   "metadata": {},
   "outputs": [
    {
     "name": "stdout",
     "output_type": "stream",
     "text": [
      "Original RF Score:\n",
      "0.9959205391982973\n",
      "0.6160684886401053\n",
      "\n",
      "Best RF Score:\n",
      "0.9395175594182334\n",
      "0.6111294040171221\n"
     ]
    }
   ],
   "source": [
    "print(\"Original RF Score:\")\n",
    "print(model.score(X_train, y_train))\n",
    "print(model.score(X_test, y_test))\n",
    "\n",
    "print(\"\\nBest RF Score:\")\n",
    "print(model_bestrf.score(X_train, y_train))\n",
    "print(model_bestrf.score(X_test, y_test))"
   ]
  },
  {
   "attachments": {},
   "cell_type": "markdown",
   "metadata": {},
   "source": [
    "From the above accuracies, it looks like changing the hyper-parameters did not increase the accuracy of the model. In fact, it decreased it (at least on this seed). However, it does seem to be over-fitting a bit less since the training score has lowered. To obtain a better model, we can add more parameters to the grid, increase the options of each parameters, increase the iterations of RandomSearchCV, or use GridSearchCV. However, these are all time-consuming options. For now, I will export this RandomForest model via joblib. I will also use joblib to dump the trained CountVectorized and TF-IDF Transformer. "
   ]
  },
  {
   "cell_type": "code",
   "execution_count": 190,
   "metadata": {},
   "outputs": [
    {
     "data": {
      "text/plain": [
       "['tfizer.pkl']"
      ]
     },
     "execution_count": 190,
     "metadata": {},
     "output_type": "execute_result"
    }
   ],
   "source": [
    "joblib.dump(model_bestrf, 'rfbestmbticlassifier.joblib')\n",
    "joblib.dump(cntizer, 'cntizer.pkl')\n",
    "joblib.dump(tfizer, 'tfizer.pkl')"
   ]
  },
  {
   "attachments": {},
   "cell_type": "markdown",
   "metadata": {},
   "source": [
    "## Another Model?!\n",
    "\n",
    "At this point, I have used Logistic Regression for the first pre-processed set of Data, then I moved onto RandomForest where I also attempted to find the best model via GridSearch. The RandomForest model had a test score of 61%. I am not satisfied with this accuracy and would like to explore another model that can more accurately handle text. According to various sources, SVM seems to be great at handling these problems."
   ]
  },
  {
   "cell_type": "code",
   "execution_count": 191,
   "metadata": {},
   "outputs": [
    {
     "name": "stdout",
     "output_type": "stream",
     "text": [
      "0.8354743083003953\n",
      "0.774490971955436\n",
      "0.8664361001317523\n",
      "0.8620822128313484\n",
      "0.9323122529644269\n",
      "0.7241644256626969\n",
      "0.8990447957839263\n",
      "0.6296580868228967\n"
     ]
    }
   ],
   "source": [
    "for l in range(len(personality_type)):\n",
    "    \n",
    "    Y = list_personality[:,l]\n",
    "\n",
    "    # split data into train and test sets\n",
    "    X_train3, X_test3, y_train3, y_test3 = train_test_split(X, Y, test_size=0.30, random_state=7)\n",
    "\n",
    "    model3 = SVC()\n",
    "\n",
    "    model3.fit(X_train3, y_train3)\n",
    "\n",
    "    print(\"\")\n",
    "    print(\"Train\",model3.score(X_train3, y_train3))\n",
    "    print(\"Test\",model3.score(X_test3, y_test3))"
   ]
  },
  {
   "cell_type": "code",
   "execution_count": 199,
   "metadata": {},
   "outputs": [
    {
     "name": "stdout",
     "output_type": "stream",
     "text": [
      "{'gamma': [0.1, 1, 10, 100], 'C': [0.1, 1, 10, 100], 'kernel': ['linear', 'rbf', 'poly']}\n"
     ]
    }
   ],
   "source": [
    "# Source: https://medium.com/all-things-ai/in-depth-parameter-tuning-for-svc-758215394769\n",
    "gamma = [0.1, 1, 10, 100]\n",
    "C = [0.1, 1, 10, 100]\n",
    "kernel = ['linear', 'rbf', 'poly']\n",
    "\n",
    "random_grid_svc = dict(gamma=gamma, C=C, kernel=kernel)\n",
    "print(random_grid_svc)"
   ]
  },
  {
   "cell_type": "code",
   "execution_count": 200,
   "metadata": {},
   "outputs": [
    {
     "name": "stderr",
     "output_type": "stream",
     "text": [
      "c:\\Users\\Eternal\\Downloads\\ENSF Masters\\ENSF 611\\Project\\ml-mbti-fullstack\\server\\venv\\lib\\site-packages\\sklearn\\model_selection\\_search.py:306: UserWarning: The total space of parameters 48 is smaller than n_iter=80. Running 48 iterations. For exhaustive searches, use GridSearchCV.\n",
      "  warnings.warn(\n"
     ]
    },
    {
     "name": "stdout",
     "output_type": "stream",
     "text": [
      "Fitting 3 folds for each of 48 candidates, totalling 144 fits\n",
      "0.767292490118577 {'kernel': 'linear', 'gamma': 0.1, 'C': 0.1}\n",
      "Fitting 3 folds for each of 48 candidates, totalling 144 fits\n"
     ]
    },
    {
     "name": "stderr",
     "output_type": "stream",
     "text": [
      "c:\\Users\\Eternal\\Downloads\\ENSF Masters\\ENSF 611\\Project\\ml-mbti-fullstack\\server\\venv\\lib\\site-packages\\sklearn\\model_selection\\_search.py:306: UserWarning: The total space of parameters 48 is smaller than n_iter=80. Running 48 iterations. For exhaustive searches, use GridSearchCV.\n",
      "  warnings.warn(\n"
     ]
    },
    {
     "name": "stdout",
     "output_type": "stream",
     "text": [
      "0.8621541501976284 {'kernel': 'poly', 'gamma': 10, 'C': 0.1}\n",
      "Fitting 3 folds for each of 48 candidates, totalling 144 fits\n"
     ]
    },
    {
     "name": "stderr",
     "output_type": "stream",
     "text": [
      "c:\\Users\\Eternal\\Downloads\\ENSF Masters\\ENSF 611\\Project\\ml-mbti-fullstack\\server\\venv\\lib\\site-packages\\sklearn\\model_selection\\_search.py:306: UserWarning: The total space of parameters 48 is smaller than n_iter=80. Running 48 iterations. For exhaustive searches, use GridSearchCV.\n",
      "  warnings.warn(\n"
     ]
    },
    {
     "name": "stdout",
     "output_type": "stream",
     "text": [
      "0.7137681159420289 {'kernel': 'rbf', 'gamma': 1, 'C': 1}\n",
      "Fitting 3 folds for each of 48 candidates, totalling 144 fits\n"
     ]
    },
    {
     "name": "stderr",
     "output_type": "stream",
     "text": [
      "c:\\Users\\Eternal\\Downloads\\ENSF Masters\\ENSF 611\\Project\\ml-mbti-fullstack\\server\\venv\\lib\\site-packages\\sklearn\\model_selection\\_search.py:306: UserWarning: The total space of parameters 48 is smaller than n_iter=80. Running 48 iterations. For exhaustive searches, use GridSearchCV.\n",
      "  warnings.warn(\n"
     ]
    },
    {
     "name": "stdout",
     "output_type": "stream",
     "text": [
      "0.6154479578392622 {'kernel': 'poly', 'gamma': 1, 'C': 1}\n"
     ]
    }
   ],
   "source": [
    "for l in range(len(personality_type)):\n",
    "    \n",
    "    Y = list_personality[:,l]\n",
    "\n",
    "    # split data into train and test sets\n",
    "    X_train3, X_test3, y_train3, y_test3 = train_test_split(X, Y, test_size=0.30, random_state=7)\n",
    "\n",
    "    SVC_random = RandomizedSearchCV(estimator = model3, param_distributions = random_grid_svc, n_iter = 80, cv = 3, verbose=2, random_state=611, n_jobs = -1)\n",
    "    # fit model on training data\n",
    "    grid_result = SVC_random.fit(X_train3, y_train3)\n",
    "\n",
    "    print(grid_result.best_score_, grid_result.best_params_)"
   ]
  },
  {
   "attachments": {},
   "cell_type": "markdown",
   "metadata": {},
   "source": [
    "### Results from RandomSearchCV for SVC\n",
    "\n",
    "The results from the above code block is as follows:\n",
    "\n",
    "- Iteration 1 (I/E): 0.767292490118577 {'kernel': 'linear', 'gamma': 0.1, 'C': 0.1}\n",
    "- Iteration 2 (N/S): 0.8621541501976284 {'kernel': 'poly', 'gamma': 10, 'C': 0.1}\n",
    "- Iteration 3 (F/T): 0.7137681159420289 {'kernel': 'rbf', 'gamma': 1, 'C': 1}\n",
    "- Iteration 4 (J/P): 0.6154479578392622 {'kernel': 'poly', 'gamma': 1, 'C': 1}\n",
    "\n",
    "The best parameters for the SVC seem to be all of the place. It is difficult to choose one for each hyper-parameter. However, I will go with kernel='poly', gamma=1, C=1 as the best model."
   ]
  },
  {
   "cell_type": "code",
   "execution_count": 206,
   "metadata": {},
   "outputs": [
    {
     "name": "stdout",
     "output_type": "stream",
     "text": [
      "\n",
      "Train 0.9680500658761528\n",
      "Test 0.7752593161736457\n",
      "\n",
      "Train 0.961133069828722\n",
      "Test 0.8620822128313484\n",
      "\n",
      "Train 0.9836956521739131\n",
      "Test 0.7095658855167115\n",
      "\n",
      "Train 0.9830368906455863\n",
      "Test 0.635036496350365\n"
     ]
    }
   ],
   "source": [
    "for l in range(len(personality_type)):\n",
    "    \n",
    "    Y = list_personality[:,l]\n",
    "\n",
    "    # split data into train and test sets\n",
    "    X_train4, X_test4, y_train4, y_test4 = train_test_split(X, Y, test_size=0.30, random_state=7)\n",
    "\n",
    "    model4 = SVC(kernel='poly', gamma=1, C=1)\n",
    "\n",
    "    model4.fit(X_train4, y_train4)\n",
    "\n",
    "    print(\"\")\n",
    "    print(\"Train\",model4.score(X_train4, y_train4))\n",
    "    print(\"Test\",model4.score(X_test4, y_test4))"
   ]
  },
  {
   "cell_type": "code",
   "execution_count": 207,
   "metadata": {},
   "outputs": [
    {
     "name": "stdout",
     "output_type": "stream",
     "text": [
      "Original SVC Score:\n",
      "0.8990447957839263\n",
      "0.6296580868228967\n",
      "\n",
      "Best SVC Score:\n",
      "0.9830368906455863\n",
      "0.635036496350365\n"
     ]
    }
   ],
   "source": [
    "print(\"Original SVC Score:\")\n",
    "print(model3.score(X_train3, y_train3))\n",
    "print(model3.score(X_test3, y_test3))\n",
    "\n",
    "print(\"\\nBest SVC Score:\")\n",
    "print(model4.score(X_train4, y_train4))\n",
    "print(model4.score(X_test4, y_test4))"
   ]
  },
  {
   "attachments": {},
   "cell_type": "markdown",
   "metadata": {},
   "source": [
    "### SVC Results\n",
    "\n",
    "From the results above, it looks like the Best SVC performs about 0.5% better than the Original SVC, and also performs about 1-2% better than RandomForest. Although the accuracy remains quite low, it is still our best model. We can export it using joblib and utilize it on the Flask server."
   ]
  },
  {
   "cell_type": "code",
   "execution_count": 208,
   "metadata": {},
   "outputs": [
    {
     "data": {
      "text/plain": [
       "['svcbestmbticlassifier.joblib']"
      ]
     },
     "execution_count": 208,
     "metadata": {},
     "output_type": "execute_result"
    }
   ],
   "source": [
    "joblib.dump(model4, 'svcbestmbticlassifier.joblib')"
   ]
  }
 ],
 "metadata": {
  "kernelspec": {
   "display_name": "venv",
   "language": "python",
   "name": "python3"
  },
  "language_info": {
   "codemirror_mode": {
    "name": "ipython",
    "version": 3
   },
   "file_extension": ".py",
   "mimetype": "text/x-python",
   "name": "python",
   "nbconvert_exporter": "python",
   "pygments_lexer": "ipython3",
   "version": "3.10.1 (tags/v3.10.1:2cd268a, Dec  6 2021, 19:10:37) [MSC v.1929 64 bit (AMD64)]"
  },
  "orig_nbformat": 4,
  "vscode": {
   "interpreter": {
    "hash": "f4b212391661eb8f93de9ab8eb5973ec2921e1b6fe00673de629ecf9e3395718"
   }
  }
 },
 "nbformat": 4,
 "nbformat_minor": 2
}
